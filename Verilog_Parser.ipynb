{
 "cells": [
  {
   "cell_type": "markdown",
   "metadata": {},
   "source": [
    "# Verilog Parsar\n",
    "\n",
    "## Introduction\n",
    "- This is a verilog parser written in python.\n",
    "- It can parse verilog file and generate a report\n",
    "\n",
    "## Usage\n",
    "- Check for the following:\n",
    "    - Unreachable Blocks\n",
    "    - Uninitialized Register\n",
    "    - Inferring Latches\n",
    "    - Unreachable State\n",
    "    - Non Full Case\n",
    "    - Non Parallel Case\n",
    "    - Multiple Drivers\n",
    "    - Arithmetic Overflow\n",
    "    - Integer Overflow"
   ]
  },
  {
   "cell_type": "markdown",
   "metadata": {},
   "source": [
    "# Imports"
   ]
  },
  {
   "cell_type": "code",
   "execution_count": 1,
   "metadata": {},
   "outputs": [],
   "source": [
    "import re\n",
    "import sys\n",
    "import os"
   ]
  },
  {
   "cell_type": "code",
   "execution_count": 2,
   "metadata": {},
   "outputs": [],
   "source": [
    "def file_reader(file_name):\n",
    "    x = []\n",
    "    try:\n",
    "        # Open the file in read mode\n",
    "        with open(file_name, 'r') as file:\n",
    "            # Read and print each line\n",
    "            for line in file:\n",
    "                x.append(line.strip())  \n",
    "\n",
    "    except FileNotFoundError:\n",
    "        print(f\"File not found: {file_name}\")\n",
    "\n",
    "    except Exception as e:\n",
    "        print(f\"An error occurred: {e}\")\n",
    "    \n",
    "    return x\n"
   ]
  },
  {
   "cell_type": "markdown",
   "metadata": {},
   "source": [
    "### Testing reading verilog file"
   ]
  },
  {
   "cell_type": "code",
   "execution_count": 3,
   "metadata": {},
   "outputs": [
    {
     "name": "stdout",
     "output_type": "stream",
     "text": [
      "module UnreachableBlocks(data_out);\n",
      "output reg data_out;\n",
      "reg reach;\n",
      "wire state;\n",
      "\n",
      "initial\n",
      "begin\n",
      "reach = 1'b1;\n",
      "end\n",
      "\n",
      "always @(state)\n",
      "begin\n",
      "if (reach == 2'b0)\n",
      "begin\n",
      "data_out = 1'b1;\n",
      "end\n",
      "else\n",
      "begin\n",
      "data_out = 1'b0;\n",
      "end\n",
      "end\n",
      "endmodule\n",
      "\n",
      "module UninitializedRegister(data_out);\n",
      "reg data;\n",
      "output reg data_out;\n",
      "assign data_out = data;\n",
      "endmodule\n",
      "\n",
      "module InferringLatches(enable, Data, out);\n",
      "input wire enable, Data\n",
      "output reg out;\n",
      "\n",
      "always @(enable)\n",
      "begin\n",
      "if (enable)\n",
      "begin\n",
      "out = Data;\n",
      "end\n",
      "end\n",
      "endmodule\n",
      "\n",
      "module UnreachableState(clk, state_out);\n",
      "input clk;\n",
      "output reg [1:0] state_out;\n",
      "reg [1:0] current_state, next_state;\n",
      "localparam [1:0] S1 = 2'b00 ;\n",
      "localparam [1:0] S2 = 2'b01 ;\n",
      "localparam [1:0] S3 = 2'b10 ;\n",
      "\n",
      "always @(posedge clk)\n",
      "begin\n",
      "current_state <= next_state;\n",
      "end\n",
      "\n",
      "always @(*)\n",
      "begin\n",
      "case (current_state)\n",
      "S1:\n",
      "begin\n",
      "next_state <= S2;\n",
      "end\n",
      "S2:\n",
      "begin\n",
      "next_state <= S1;\n",
      "end\n",
      "S3\n",
      "begin\n",
      "next_state <= S1;\n",
      "end\n",
      "endcase\n",
      "state_out = current_state;\n",
      "\n",
      "end\n",
      "endmodule\n",
      "\n",
      "module NonFullCase(y_out);\n",
      "output reg [1:0] y_out;\n",
      "reg [1:0] x, y;\n",
      "\n",
      "always @(*)\n",
      "begin\n",
      "case(x)\n",
      "2'b00: y = 1'b00;\n",
      "2'b01: y = 1'b01;\n",
      "// Missing cases for '10' & '11'\n",
      "endcase\n",
      "y_out = y;\n",
      "end\n",
      "endmodule\n",
      "\n",
      "module NonParallelCase(y_out);\n",
      "output reg [1:0] y_out;\n",
      "reg [1:0] x, y;\n",
      "\n",
      "always @(*)\n",
      "begin\n",
      "case(x)\n",
      "2'b00: y = 1'b00;\n",
      "2'b0?: y = 1'b01;\n",
      "2'b?0: y = 1'b10;\n",
      "default: y = 1'b11;\n",
      "endcase\n",
      "y_out = y;\n",
      "end\n",
      "endmodule\n",
      "\n",
      "module MultipleDrivers(myIn, outputVar);\n",
      "input [1:0] myIn;\n",
      "output reg [1:0] outputVar;\n",
      "reg myReg;\n",
      "\n",
      "always @(*)\n",
      "begin\n",
      "myReg = myReg + 1;\n",
      "myReg = 1'b0;\n",
      "end\n",
      "always @(*)\n",
      "begin\n",
      "outputVar = myIn;\n",
      "end\n",
      "endmodule\n",
      "\n",
      "module IntegerOverflow();\n",
      "reg [31:0] res;\n",
      "\n",
      "always @(*)\n",
      "begin\n",
      "res = 32'hffffffff + 32'h1; // Overflow when adding these values\n",
      "end\n",
      "endmodule\n"
     ]
    }
   ],
   "source": [
    "file_path = 'tst.v'\n",
    "\n",
    "verilog_code = file_reader(file_path)\n",
    "    \n",
    "for i in verilog_code:\n",
    "        print(i)"
   ]
  },
  {
   "cell_type": "markdown",
   "metadata": {},
   "source": [
    "### Dividing Modules"
   ]
  },
  {
   "cell_type": "markdown",
   "metadata": {},
   "source": [
    "#### Utility Functions"
   ]
  },
  {
   "cell_type": "code",
   "execution_count": 4,
   "metadata": {},
   "outputs": [],
   "source": [
    "def counting_modules(verilog_code):\n",
    "    module_counter = 0\n",
    "    for i in verilog_code:\n",
    "        if i == \"endmodule\":\n",
    "            module_counter += 1\n",
    "    return module_counter"
   ]
  },
  {
   "cell_type": "code",
   "execution_count": 5,
   "metadata": {},
   "outputs": [],
   "source": [
    "def creating_module_lists(verilog_code, module_lists, module_counter):\n",
    "    for i in verilog_code:\n",
    "        module_lists[len(module_lists)-module_counter].append(i)\n",
    "        if i == \"endmodule\":\n",
    "            module_counter -= 1\n",
    "    return module_lists"
   ]
  },
  {
   "cell_type": "code",
   "execution_count": 6,
   "metadata": {},
   "outputs": [],
   "source": [
    "def remove_empty_strings(module_lists):\n",
    "    for i in module_lists:\n",
    "     while(\"\" in i) : \n",
    "        i.remove(\"\")\n",
    "    return module_lists"
   ]
  },
  {
   "cell_type": "code",
   "execution_count": 7,
   "metadata": {},
   "outputs": [],
   "source": [
    "def remove_comments(module_lists):\n",
    "    i_counter = 0\n",
    "    for i in module_lists:\n",
    "        \n",
    "        j_counter = 0\n",
    "        \n",
    "        for j in i:\n",
    "            \n",
    "            if j.startswith('//'):\n",
    "                i.remove(j)\n",
    "            \n",
    "            elif '//' in j:\n",
    "                index = j.find('//')\n",
    "                j = j[:index]\n",
    "                module_lists[i_counter][j_counter] = j\n",
    "            \n",
    "            j_counter += 1\n",
    "\n",
    "        i_counter += 1\n",
    "    return module_lists"
   ]
  },
  {
   "cell_type": "markdown",
   "metadata": {},
   "source": [
    "#### Applying utility functions"
   ]
  },
  {
   "cell_type": "code",
   "execution_count": 8,
   "metadata": {},
   "outputs": [],
   "source": [
    "module_counter = counting_modules(verilog_code)"
   ]
  },
  {
   "cell_type": "code",
   "execution_count": 9,
   "metadata": {},
   "outputs": [
    {
     "data": {
      "text/plain": [
       "[[], [], [], [], [], [], [], []]"
      ]
     },
     "execution_count": 9,
     "metadata": {},
     "output_type": "execute_result"
    }
   ],
   "source": [
    "# create lists according to module counter\n",
    "module_lists = [[] for i in range(module_counter)]\n",
    "module_lists"
   ]
  },
  {
   "cell_type": "code",
   "execution_count": 10,
   "metadata": {},
   "outputs": [],
   "source": [
    "# append each module to a module_lists from the y\n",
    "module_lists = creating_module_lists(verilog_code, module_lists, module_counter)"
   ]
  },
  {
   "cell_type": "code",
   "execution_count": 11,
   "metadata": {},
   "outputs": [],
   "source": [
    "# remove all empty strings from the module_lists\n",
    "module_lists = remove_empty_strings(module_lists)"
   ]
  },
  {
   "cell_type": "code",
   "execution_count": 12,
   "metadata": {},
   "outputs": [],
   "source": [
    "module_lists = remove_comments(module_lists)"
   ]
  },
  {
   "cell_type": "code",
   "execution_count": 13,
   "metadata": {},
   "outputs": [
    {
     "data": {
      "text/plain": [
       "[['module UnreachableBlocks(data_out);',\n",
       "  'output reg data_out;',\n",
       "  'reg reach;',\n",
       "  'wire state;',\n",
       "  'initial',\n",
       "  'begin',\n",
       "  \"reach = 1'b1;\",\n",
       "  'end',\n",
       "  'always @(state)',\n",
       "  'begin',\n",
       "  \"if (reach == 2'b0)\",\n",
       "  'begin',\n",
       "  \"data_out = 1'b1;\",\n",
       "  'end',\n",
       "  'else',\n",
       "  'begin',\n",
       "  \"data_out = 1'b0;\",\n",
       "  'end',\n",
       "  'end',\n",
       "  'endmodule'],\n",
       " ['module UninitializedRegister(data_out);',\n",
       "  'reg data;',\n",
       "  'output reg data_out;',\n",
       "  'assign data_out = data;',\n",
       "  'endmodule'],\n",
       " ['module InferringLatches(enable, Data, out);',\n",
       "  'input wire enable, Data',\n",
       "  'output reg out;',\n",
       "  'always @(enable)',\n",
       "  'begin',\n",
       "  'if (enable)',\n",
       "  'begin',\n",
       "  'out = Data;',\n",
       "  'end',\n",
       "  'end',\n",
       "  'endmodule'],\n",
       " ['module UnreachableState(clk, state_out);',\n",
       "  'input clk;',\n",
       "  'output reg [1:0] state_out;',\n",
       "  'reg [1:0] current_state, next_state;',\n",
       "  \"localparam [1:0] S1 = 2'b00 ;\",\n",
       "  \"localparam [1:0] S2 = 2'b01 ;\",\n",
       "  \"localparam [1:0] S3 = 2'b10 ;\",\n",
       "  'always @(posedge clk)',\n",
       "  'begin',\n",
       "  'current_state <= next_state;',\n",
       "  'end',\n",
       "  'always @(*)',\n",
       "  'begin',\n",
       "  'case (current_state)',\n",
       "  'S1:',\n",
       "  'begin',\n",
       "  'next_state <= S2;',\n",
       "  'end',\n",
       "  'S2:',\n",
       "  'begin',\n",
       "  'next_state <= S1;',\n",
       "  'end',\n",
       "  'S3',\n",
       "  'begin',\n",
       "  'next_state <= S1;',\n",
       "  'end',\n",
       "  'endcase',\n",
       "  'state_out = current_state;',\n",
       "  'end',\n",
       "  'endmodule'],\n",
       " ['module NonFullCase(y_out);',\n",
       "  'output reg [1:0] y_out;',\n",
       "  'reg [1:0] x, y;',\n",
       "  'always @(*)',\n",
       "  'begin',\n",
       "  'case(x)',\n",
       "  \"2'b00: y = 1'b00;\",\n",
       "  \"2'b01: y = 1'b01;\",\n",
       "  'endcase',\n",
       "  'y_out = y;',\n",
       "  'end',\n",
       "  'endmodule'],\n",
       " ['module NonParallelCase(y_out);',\n",
       "  'output reg [1:0] y_out;',\n",
       "  'reg [1:0] x, y;',\n",
       "  'always @(*)',\n",
       "  'begin',\n",
       "  'case(x)',\n",
       "  \"2'b00: y = 1'b00;\",\n",
       "  \"2'b0?: y = 1'b01;\",\n",
       "  \"2'b?0: y = 1'b10;\",\n",
       "  \"default: y = 1'b11;\",\n",
       "  'endcase',\n",
       "  'y_out = y;',\n",
       "  'end',\n",
       "  'endmodule'],\n",
       " ['module MultipleDrivers(myIn, outputVar);',\n",
       "  'input [1:0] myIn;',\n",
       "  'output reg [1:0] outputVar;',\n",
       "  'reg myReg;',\n",
       "  'always @(*)',\n",
       "  'begin',\n",
       "  'myReg = myReg + 1;',\n",
       "  \"myReg = 1'b0;\",\n",
       "  'end',\n",
       "  'always @(*)',\n",
       "  'begin',\n",
       "  'outputVar = myIn;',\n",
       "  'end',\n",
       "  'endmodule'],\n",
       " ['module IntegerOverflow();',\n",
       "  'reg [31:0] res;',\n",
       "  'always @(*)',\n",
       "  'begin',\n",
       "  \"res = 32'hffffffff + 32'h1; \",\n",
       "  'end',\n",
       "  'endmodule']]"
      ]
     },
     "execution_count": 13,
     "metadata": {},
     "output_type": "execute_result"
    }
   ],
   "source": [
    "module_lists"
   ]
  },
  {
   "cell_type": "markdown",
   "metadata": {},
   "source": [
    "### Unreachable State"
   ]
  },
  {
   "cell_type": "code",
   "execution_count": null,
   "metadata": {},
   "outputs": [],
   "source": []
  },
  {
   "cell_type": "markdown",
   "metadata": {},
   "source": [
    "### Non-Full Case"
   ]
  },
  {
   "cell_type": "code",
   "execution_count": null,
   "metadata": {},
   "outputs": [],
   "source": []
  },
  {
   "cell_type": "markdown",
   "metadata": {},
   "source": [
    "### Unintialized registers"
   ]
  },
  {
   "cell_type": "code",
   "execution_count": null,
   "metadata": {},
   "outputs": [],
   "source": []
  },
  {
   "cell_type": "markdown",
   "metadata": {},
   "source": [
    "### Inferring Latches"
   ]
  },
  {
   "cell_type": "code",
   "execution_count": null,
   "metadata": {},
   "outputs": [],
   "source": []
  },
  {
   "cell_type": "markdown",
   "metadata": {},
   "source": [
    "### Unreachable Blocks"
   ]
  },
  {
   "cell_type": "code",
   "execution_count": null,
   "metadata": {},
   "outputs": [],
   "source": []
  },
  {
   "cell_type": "markdown",
   "metadata": {},
   "source": [
    "### Multiple Drivers"
   ]
  },
  {
   "cell_type": "code",
   "execution_count": null,
   "metadata": {},
   "outputs": [],
   "source": []
  },
  {
   "cell_type": "markdown",
   "metadata": {},
   "source": [
    "### Arithmetic Overflow"
   ]
  },
  {
   "cell_type": "code",
   "execution_count": 14,
   "metadata": {},
   "outputs": [
    {
     "name": "stdout",
     "output_type": "stream",
     "text": [
      "Module Number: 1\n",
      "Variable List: [('data_out', 1), ('reach', 1), ('state', 1)]\n",
      "\n",
      "Module Number: 2\n",
      "Variable List: [('data', 1), ('data_out', 1)]\n",
      "\n",
      "Module Number: 3\n",
      "Variable List: [('enable', 1), ('Data', 1), ('out', 1)]\n",
      "\n",
      "Module Number: 4\n",
      "Variable List: [('clk', 1), ('state_out', 2), ('current_state', 2), ('next_state', 2)]\n",
      "\n",
      "Module Number: 5\n",
      "Variable List: [('y_out', 2), ('x', 2), ('y', 2)]\n",
      "\n",
      "Module Number: 6\n",
      "Variable List: [('y_out', 2), ('x', 2), ('y', 2)]\n",
      "\n",
      "Module Number: 7\n",
      "Variable List: [('myIn', 2), ('outputVar', 2), ('myReg', 1)]\n",
      "\n",
      "Module Number: 8\n",
      "Variable List: [('res', 32)]\n",
      "\n"
     ]
    }
   ],
   "source": [
    "def checkArithmeticOverflow(module_lists):\n",
    "    # Extracting the variables from the module\n",
    "    variable_list = [[] for _ in range(len(module_lists))]\n",
    "    \n",
    "    for module_index, module in enumerate(module_lists, start=1):\n",
    "        print(\"Module Number:\", module_index)\n",
    "        for variable_declaration in module:\n",
    "            # Check if the variable is input, output, wire, or reg\n",
    "            if variable_declaration.startswith(('input ', 'output ', 'wire ', 'reg ')):\n",
    "                # Extract variable name and size\n",
    "                parts = variable_declaration.split()\n",
    "                parts[-1] =  parts[-1].rstrip(';')\n",
    "                # Variable names are strings after '[number:number]' or after 'reg', 'wire', 'input', 'output'\n",
    "                variable_names = [part.strip(',') for part in parts[1:] if part not in ('reg', 'wire', 'input', 'output')]\n",
    "                for i in variable_names:\n",
    "                    if '[' in i and ']' in i:\n",
    "                        variable_names.remove(i)\n",
    "                \n",
    "                        \n",
    "                        \n",
    "                variable_size = 1  # Default size is 1\n",
    "                \n",
    "                # Check if [number-1:0] pattern is present\n",
    "                if '[' in variable_declaration and ']' in variable_declaration:\n",
    "                    size_part = variable_declaration.split('[')[1].split(']')[0]\n",
    "                    try:\n",
    "                        # Extract the size correctly\n",
    "                        if ':' in size_part:\n",
    "                            sizes = size_part.split(':')\n",
    "                            variable_size = abs(int(sizes[0]) - int(sizes[1])) + 1\n",
    "                        else:\n",
    "                            variable_size = int(size_part) + 1\n",
    "                    except ValueError:\n",
    "                        pass\n",
    "                \n",
    "                # Store the variable names and size\n",
    "                variable_list[module_index - 1].extend([(name, variable_size) for name in variable_names if name])\n",
    "\n",
    "        print(\"Variable List:\", variable_list[module_index - 1])\n",
    "        print()\n",
    "\n",
    "    \n",
    "checkArithmeticOverflow(module_lists)"
   ]
  },
  {
   "cell_type": "markdown",
   "metadata": {},
   "source": [
    "### Non-Parallel Case"
   ]
  },
  {
   "cell_type": "code",
   "execution_count": null,
   "metadata": {},
   "outputs": [],
   "source": []
  }
 ],
 "metadata": {
  "kernelspec": {
   "display_name": "Python 3",
   "language": "python",
   "name": "python3"
  },
  "language_info": {
   "codemirror_mode": {
    "name": "ipython",
    "version": 3
   },
   "file_extension": ".py",
   "mimetype": "text/x-python",
   "name": "python",
   "nbconvert_exporter": "python",
   "pygments_lexer": "ipython3",
   "version": "3.11.4"
  }
 },
 "nbformat": 4,
 "nbformat_minor": 2
}
