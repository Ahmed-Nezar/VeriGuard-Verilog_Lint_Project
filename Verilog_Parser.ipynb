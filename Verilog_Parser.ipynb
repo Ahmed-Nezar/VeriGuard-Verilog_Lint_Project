{
 "cells": [
  {
   "cell_type": "markdown",
   "metadata": {},
   "source": [
    "# Verilog Parsar\n",
    "\n",
    "## Introduction\n",
    "- This is a verilog parser written in python.\n",
    "- It can parse verilog file and generate a report\n",
    "\n",
    "## Usage\n",
    "- Check for the following:\n",
    "    - Unreachable Blocks\n",
    "    - Uninitialized Register\n",
    "    - Inferring Latches\n",
    "    - Unreachable State\n",
    "    - Non Full Case\n",
    "    - Non Parallel Case\n",
    "    - Multiple Drivers\n",
    "    - Arithmetic Overflow\n",
    "    - Integer Overflow"
   ]
  },
  {
   "cell_type": "code",
   "execution_count": 9,
   "metadata": {},
   "outputs": [],
   "source": [
    "def file_reader(file_name):\n",
    "    x = []\n",
    "    try:\n",
    "        # Open the file in read mode\n",
    "        with open(file_name, 'r') as file:\n",
    "            # Read and print each line\n",
    "            for line in file:\n",
    "                x.append(line.strip())  \n",
    "\n",
    "    except FileNotFoundError:\n",
    "        print(f\"File not found: {file_name}\")\n",
    "\n",
    "    except Exception as e:\n",
    "        print(f\"An error occurred: {e}\")\n",
    "    \n",
    "    return x\n"
   ]
  },
  {
   "cell_type": "markdown",
   "metadata": {},
   "source": [
    "### Testing reading verilog file"
   ]
  },
  {
   "cell_type": "code",
   "execution_count": 10,
   "metadata": {},
   "outputs": [
    {
     "name": "stdout",
     "output_type": "stream",
     "text": [
      "module UnreachableBlocks();\n",
      "reg reach;\n",
      "wire state;\n",
      "wire data;\n",
      "\n",
      "initial\n",
      "begin\n",
      "reach = 1'b1;\n",
      "end\n",
      "\n",
      "always @(state)\n",
      "begin\n",
      "if (reach == 2'b0)\n",
      "begin\n",
      "data <= 1'b1;\n",
      "end\n",
      "end\n",
      "endmodule\n",
      "\n",
      "module UninitializedRegister();\n",
      "wire data;\n",
      "\n",
      "initial\n",
      "begin\n",
      "$display(\"%b\", data);\n",
      "end\n",
      "endmodule\n",
      "\n",
      "module InferringLatches();\n",
      "reg out;\n",
      "wire enable, Data;\n",
      "\n",
      "always @(enable)\n",
      "begin\n",
      "if (enable)\n",
      "begin\n",
      "out <= Data;\n",
      "end\n",
      "end\n",
      "endmodule\n",
      "\n",
      "module UnreachableState(input clk);\n",
      "reg [1:0] current_state, next_state;\n",
      "localparam [1:0] S1 = 2'b00 ;\n",
      "localparam [1:0] S2 = 2'b01 ;\n",
      "localparam [1:0] S3 = 2'b10 ;\n",
      "\n",
      "always @(posedge clk)\n",
      "begin\n",
      "current_state <= next_state;\n",
      "end\n",
      "\n",
      "always @(*)\n",
      "begin\n",
      "case (current_state)\n",
      "S1:\n",
      "begin\n",
      "next_state <= S2;\n",
      "end\n",
      "S2:\n",
      "begin\n",
      "next_state <= S1;\n",
      "end\n",
      "S3\n",
      "begin\n",
      "next_state <= S1;\n",
      "end\n",
      "\n",
      "endcase\n",
      "end\n",
      "endmodule\n",
      "\n",
      "module NonFullCase();\n",
      "reg [1:0] x, y;\n",
      "\n",
      "always @(*)\n",
      "begin\n",
      "case(x)\n",
      "2'b00: y = 1'b00;\n",
      "2'b01: y = 1'b01;\n",
      "// Missing cases for '10' & '11'\n",
      "endcase\n",
      "end\n",
      "endmodule\n",
      "\n",
      "module NonParallelCase();\n",
      "reg [1:0] x, y;\n",
      "\n",
      "always @(*)\n",
      "begin\n",
      "case(x)\n",
      "2'b00: y = 1'b00;\n",
      "2'b0?: y = 1'b01;\n",
      "2'b?0: y = 1'b10;\n",
      "default: y = 1'b11;\n",
      "endcase\n",
      "end\n",
      "endmodule\n",
      "\n",
      "module MultipleDrivers(input [1:0] myIn);\n",
      "wire myOut;\n",
      "reg myReg;\n",
      "\n",
      "assign myOut = myIn;\n",
      "assign myOut = 1'b1;\n",
      "\n",
      "always @(*)\n",
      "begin\n",
      "myReg = myReg + 1;\n",
      "end\n",
      "always @(*)\n",
      "begin\n",
      "myReg = 1'b0;\n",
      "end\n",
      "endmodule\n",
      "\n",
      "module ArithmeticOverflow();\n",
      "reg [3:0] a, b, result;\n",
      "\n",
      "always @(*)\n",
      "begin\n",
      "result = a + b; // Potential overflow when adding 'a' and 'b'\n",
      "end\n",
      "endmodule\n",
      "\n",
      "module IntegerOverflow();\n",
      "reg [31:0] res;\n",
      "\n",
      "always @(*)\n",
      "begin\n",
      "res = 32'hffffffff + 32'h1; // Overflow when adding these values\n",
      "end\n",
      "endmodule\n"
     ]
    }
   ],
   "source": [
    "file_path = 'tst.v'\n",
    "\n",
    "y = file_reader(file_path)\n",
    "    \n",
    "for i in y:\n",
    "        print(i)"
   ]
  },
  {
   "cell_type": "markdown",
   "metadata": {},
   "source": [
    "### Unreachable State"
   ]
  },
  {
   "cell_type": "code",
   "execution_count": null,
   "metadata": {},
   "outputs": [],
   "source": []
  },
  {
   "cell_type": "markdown",
   "metadata": {},
   "source": [
    "### Non-Full Case"
   ]
  },
  {
   "cell_type": "code",
   "execution_count": null,
   "metadata": {},
   "outputs": [],
   "source": []
  },
  {
   "cell_type": "markdown",
   "metadata": {},
   "source": [
    "### Unintialized registers"
   ]
  },
  {
   "cell_type": "code",
   "execution_count": null,
   "metadata": {},
   "outputs": [],
   "source": []
  },
  {
   "cell_type": "markdown",
   "metadata": {},
   "source": [
    "### Inferring Latches"
   ]
  },
  {
   "cell_type": "code",
   "execution_count": null,
   "metadata": {},
   "outputs": [],
   "source": []
  },
  {
   "cell_type": "markdown",
   "metadata": {},
   "source": [
    "### Unreachable Blocks"
   ]
  },
  {
   "cell_type": "code",
   "execution_count": null,
   "metadata": {},
   "outputs": [],
   "source": []
  },
  {
   "cell_type": "markdown",
   "metadata": {},
   "source": [
    "### Multiple Drivers"
   ]
  },
  {
   "cell_type": "code",
   "execution_count": null,
   "metadata": {},
   "outputs": [],
   "source": []
  },
  {
   "cell_type": "markdown",
   "metadata": {},
   "source": [
    "### Arithmetic Overflow"
   ]
  },
  {
   "cell_type": "code",
   "execution_count": null,
   "metadata": {},
   "outputs": [],
   "source": []
  },
  {
   "cell_type": "markdown",
   "metadata": {},
   "source": [
    "### Non-Parallel Case"
   ]
  },
  {
   "cell_type": "code",
   "execution_count": null,
   "metadata": {},
   "outputs": [],
   "source": []
  }
 ],
 "metadata": {
  "kernelspec": {
   "display_name": "Python 3",
   "language": "python",
   "name": "python3"
  },
  "language_info": {
   "codemirror_mode": {
    "name": "ipython",
    "version": 3
   },
   "file_extension": ".py",
   "mimetype": "text/x-python",
   "name": "python",
   "nbconvert_exporter": "python",
   "pygments_lexer": "ipython3",
   "version": "3.11.1"
  }
 },
 "nbformat": 4,
 "nbformat_minor": 2
}
