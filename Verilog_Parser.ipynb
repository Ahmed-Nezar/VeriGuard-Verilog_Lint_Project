{
 "cells": [
  {
   "cell_type": "markdown",
   "metadata": {},
   "source": [
    "# Verilog Parsar\n",
    "\n",
    "## Introduction\n",
    "- This is a verilog parser written in python.\n",
    "- It can parse verilog file and generate a report\n",
    "\n",
    "## Usage\n",
    "- Check for the following:\n",
    "    - Unreachable Blocks\n",
    "    - Uninitialized Register\n",
    "    - Inferring Latches\n",
    "    - Unreachable State\n",
    "    - Non Full Case\n",
    "    - Non Parallel Case\n",
    "    - Multiple Drivers\n",
    "    - Arithmetic Overflow\n",
    "    - Integer Overflow"
   ]
  },
  {
   "cell_type": "markdown",
   "metadata": {},
   "source": [
    "# Imports"
   ]
  },
  {
   "cell_type": "code",
   "execution_count": 121,
   "metadata": {},
   "outputs": [],
   "source": [
    "import re\n",
    "import sys\n",
    "import os"
   ]
  },
  {
   "cell_type": "code",
   "execution_count": 122,
   "metadata": {},
   "outputs": [],
   "source": [
    "def file_reader(file_name):\n",
    "    x = []\n",
    "    try:\n",
    "        # Open the file in read mode\n",
    "        with open(file_name, 'r') as file:\n",
    "            # Read and print each line\n",
    "            for line in file:\n",
    "                x.append(line.strip())  \n",
    "\n",
    "    except FileNotFoundError:\n",
    "        print(f\"File not found: {file_name}\")\n",
    "\n",
    "    except Exception as e:\n",
    "        print(f\"An error occurred: {e}\")\n",
    "    \n",
    "    return x\n"
   ]
  },
  {
   "cell_type": "markdown",
   "metadata": {},
   "source": [
    "### Testing reading verilog file"
   ]
  },
  {
   "cell_type": "code",
   "execution_count": 123,
   "metadata": {},
   "outputs": [
    {
     "name": "stdout",
     "output_type": "stream",
     "text": [
      "module UnreachableBlocks();\n",
      "reg reach;\n",
      "wire state;\n",
      "wire data;\n",
      "\n",
      "initial\n",
      "begin\n",
      "reach = 1'b1;\n",
      "end\n",
      "\n",
      "always @(state)\n",
      "begin\n",
      "if (reach == 2'b0)\n",
      "begin\n",
      "data <= 1'b1;\n",
      "end\n",
      "end\n",
      "endmodule\n",
      "\n",
      "module UninitializedRegister();\n",
      "wire data;\n",
      "\n",
      "initial\n",
      "begin\n",
      "$display(\"%b\", data);\n",
      "end\n",
      "endmodule\n",
      "\n",
      "module InferringLatches();\n",
      "reg out;\n",
      "wire enable, Data;\n",
      "\n",
      "always @(enable)\n",
      "begin\n",
      "if (enable)\n",
      "begin\n",
      "out <= Data;\n",
      "end\n",
      "end\n",
      "endmodule\n",
      "\n",
      "module UnreachableState(input clk);\n",
      "reg [1:0] current_state, next_state;\n",
      "localparam [1:0] S1 = 2'b00 ;\n",
      "localparam [1:0] S2 = 2'b01 ;\n",
      "localparam [1:0] S3 = 2'b10 ;\n",
      "\n",
      "always @(posedge clk)\n",
      "begin\n",
      "current_state <= next_state;\n",
      "end\n",
      "\n",
      "always @(*)\n",
      "begin\n",
      "case (current_state)\n",
      "S1:\n",
      "begin\n",
      "next_state <= S2;\n",
      "end\n",
      "S2:\n",
      "begin\n",
      "next_state <= S1;\n",
      "end\n",
      "S3\n",
      "begin\n",
      "next_state <= S1;\n",
      "end\n",
      "\n",
      "endcase\n",
      "end\n",
      "endmodule\n",
      "\n",
      "module NonFullCase();\n",
      "reg [1:0] x, y;\n",
      "\n",
      "always @(*)\n",
      "begin\n",
      "case(x)\n",
      "2'b00: y = 1'b00;\n",
      "2'b01: y = 1'b01;\n",
      "// Missing cases for '10' & '11'\n",
      "endcase\n",
      "end\n",
      "endmodule\n",
      "\n",
      "module NonParallelCase();\n",
      "reg [1:0] x, y;\n",
      "\n",
      "always @(*)\n",
      "begin\n",
      "case(x)\n",
      "2'b00: y = 1'b00;\n",
      "2'b0?: y = 1'b01;\n",
      "2'b?0: y = 1'b10;\n",
      "default: y = 1'b11;\n",
      "endcase\n",
      "end\n",
      "endmodule\n",
      "\n",
      "module MultipleDrivers(input [1:0] myIn);\n",
      "wire myOut;\n",
      "reg myReg;\n",
      "\n",
      "assign myOut = myIn;\n",
      "assign myOut = 1'b1;\n",
      "\n",
      "always @(*)\n",
      "begin\n",
      "myReg = myReg + 1;\n",
      "end\n",
      "always @(*)\n",
      "begin\n",
      "myReg = 1'b0;\n",
      "end\n",
      "endmodule\n",
      "\n",
      "module ArithmeticOverflow();\n",
      "reg [3:0] a, b, result;\n",
      "\n",
      "always @(*)\n",
      "begin\n",
      "result = a + b; // Potential overflow when adding 'a' and 'b'\n",
      "end\n",
      "endmodule\n",
      "\n",
      "module IntegerOverflow();\n",
      "reg [31:0] res;\n",
      "\n",
      "always @(*)\n",
      "begin\n",
      "res = 32'hffffffff + 32'h1; // Overflow when adding these values\n",
      "end\n",
      "endmodule\n"
     ]
    }
   ],
   "source": [
    "file_path = 'tst.v'\n",
    "\n",
    "verilog_code = file_reader(file_path)\n",
    "    \n",
    "for i in verilog_code:\n",
    "        print(i)"
   ]
  },
  {
   "cell_type": "markdown",
   "metadata": {},
   "source": [
    "### Dividing Modules"
   ]
  },
  {
   "cell_type": "markdown",
   "metadata": {},
   "source": [
    "#### Utility Functions"
   ]
  },
  {
   "cell_type": "code",
   "execution_count": 124,
   "metadata": {},
   "outputs": [],
   "source": [
    "def counting_modules(verilog_code):\n",
    "    module_counter = 0\n",
    "    for i in verilog_code:\n",
    "        if i == \"endmodule\":\n",
    "            module_counter += 1\n",
    "    return module_counter"
   ]
  },
  {
   "cell_type": "code",
   "execution_count": 125,
   "metadata": {},
   "outputs": [],
   "source": [
    "def creating_module_lists(verilog_code, module_lists, module_counter):\n",
    "    for i in verilog_code:\n",
    "        module_lists[len(module_lists)-module_counter].append(i)\n",
    "        if i == \"endmodule\":\n",
    "            module_counter -= 1\n",
    "    return module_lists"
   ]
  },
  {
   "cell_type": "code",
   "execution_count": 126,
   "metadata": {},
   "outputs": [],
   "source": [
    "def remove_empty_strings(module_lists):\n",
    "    for i in module_lists:\n",
    "     while(\"\" in i) : \n",
    "        i.remove(\"\")\n",
    "    return module_lists"
   ]
  },
  {
   "cell_type": "code",
   "execution_count": 127,
   "metadata": {},
   "outputs": [],
   "source": [
    "def remove_comments(module_lists):\n",
    "    i_counter = 0\n",
    "    for i in module_lists:\n",
    "        \n",
    "        j_counter = 0\n",
    "        \n",
    "        for j in i:\n",
    "            \n",
    "            if j.startswith('//'):\n",
    "                i.remove(j)\n",
    "            \n",
    "            elif '//' in j:\n",
    "                index = j.find('//')\n",
    "                j = j[:index]\n",
    "                module_lists[i_counter][j_counter] = j\n",
    "            \n",
    "            j_counter += 1\n",
    "\n",
    "        i_counter += 1\n",
    "    return module_lists"
   ]
  },
  {
   "cell_type": "markdown",
   "metadata": {},
   "source": [
    "#### Applying utility functions"
   ]
  },
  {
   "cell_type": "code",
   "execution_count": 128,
   "metadata": {},
   "outputs": [],
   "source": [
    "module_counter = counting_modules(verilog_code)"
   ]
  },
  {
   "cell_type": "code",
   "execution_count": 129,
   "metadata": {},
   "outputs": [
    {
     "data": {
      "text/plain": [
       "[[], [], [], [], [], [], [], [], []]"
      ]
     },
     "execution_count": 129,
     "metadata": {},
     "output_type": "execute_result"
    }
   ],
   "source": [
    "# create lists according to module counter\n",
    "module_lists = [[] for i in range(module_counter)]\n",
    "module_lists"
   ]
  },
  {
   "cell_type": "code",
   "execution_count": 130,
   "metadata": {},
   "outputs": [],
   "source": [
    "# append each module to a module_lists from the y\n",
    "module_lists = creating_module_lists(verilog_code, module_lists, module_counter)"
   ]
  },
  {
   "cell_type": "code",
   "execution_count": 131,
   "metadata": {},
   "outputs": [],
   "source": [
    "# remove all empty strings from the module_lists\n",
    "module_lists = remove_empty_strings(module_lists)"
   ]
  },
  {
   "cell_type": "code",
   "execution_count": 132,
   "metadata": {},
   "outputs": [],
   "source": [
    "module_lists = remove_comments(module_lists)"
   ]
  },
  {
   "cell_type": "code",
   "execution_count": 133,
   "metadata": {},
   "outputs": [
    {
     "data": {
      "text/plain": [
       "[['module UnreachableBlocks();',\n",
       "  'reg reach;',\n",
       "  'wire state;',\n",
       "  'wire data;',\n",
       "  'initial',\n",
       "  'begin',\n",
       "  \"reach = 1'b1;\",\n",
       "  'end',\n",
       "  'always @(state)',\n",
       "  'begin',\n",
       "  \"if (reach == 2'b0)\",\n",
       "  'begin',\n",
       "  \"data <= 1'b1;\",\n",
       "  'end',\n",
       "  'end',\n",
       "  'endmodule'],\n",
       " ['module UninitializedRegister();',\n",
       "  'wire data;',\n",
       "  'initial',\n",
       "  'begin',\n",
       "  '$display(\"%b\", data);',\n",
       "  'end',\n",
       "  'endmodule'],\n",
       " ['module InferringLatches();',\n",
       "  'reg out;',\n",
       "  'wire enable, Data;',\n",
       "  'always @(enable)',\n",
       "  'begin',\n",
       "  'if (enable)',\n",
       "  'begin',\n",
       "  'out <= Data;',\n",
       "  'end',\n",
       "  'end',\n",
       "  'endmodule'],\n",
       " ['module UnreachableState(input clk);',\n",
       "  'reg [1:0] current_state, next_state;',\n",
       "  \"localparam [1:0] S1 = 2'b00 ;\",\n",
       "  \"localparam [1:0] S2 = 2'b01 ;\",\n",
       "  \"localparam [1:0] S3 = 2'b10 ;\",\n",
       "  'always @(posedge clk)',\n",
       "  'begin',\n",
       "  'current_state <= next_state;',\n",
       "  'end',\n",
       "  'always @(*)',\n",
       "  'begin',\n",
       "  'case (current_state)',\n",
       "  'S1:',\n",
       "  'begin',\n",
       "  'next_state <= S2;',\n",
       "  'end',\n",
       "  'S2:',\n",
       "  'begin',\n",
       "  'next_state <= S1;',\n",
       "  'end',\n",
       "  'S3',\n",
       "  'begin',\n",
       "  'next_state <= S1;',\n",
       "  'end',\n",
       "  'endcase',\n",
       "  'end',\n",
       "  'endmodule'],\n",
       " ['module NonFullCase();',\n",
       "  'reg [1:0] x, y;',\n",
       "  'always @(*)',\n",
       "  'begin',\n",
       "  'case(x)',\n",
       "  \"2'b00: y = 1'b00;\",\n",
       "  \"2'b01: y = 1'b01;\",\n",
       "  'endcase',\n",
       "  'end',\n",
       "  'endmodule'],\n",
       " ['module NonParallelCase();',\n",
       "  'reg [1:0] x, y;',\n",
       "  'always @(*)',\n",
       "  'begin',\n",
       "  'case(x)',\n",
       "  \"2'b00: y = 1'b00;\",\n",
       "  \"2'b0?: y = 1'b01;\",\n",
       "  \"2'b?0: y = 1'b10;\",\n",
       "  \"default: y = 1'b11;\",\n",
       "  'endcase',\n",
       "  'end',\n",
       "  'endmodule'],\n",
       " ['module MultipleDrivers(input [1:0] myIn);',\n",
       "  'wire myOut;',\n",
       "  'reg myReg;',\n",
       "  'assign myOut = myIn;',\n",
       "  \"assign myOut = 1'b1;\",\n",
       "  'always @(*)',\n",
       "  'begin',\n",
       "  'myReg = myReg + 1;',\n",
       "  'end',\n",
       "  'always @(*)',\n",
       "  'begin',\n",
       "  \"myReg = 1'b0;\",\n",
       "  'end',\n",
       "  'endmodule'],\n",
       " ['module ArithmeticOverflow();',\n",
       "  'reg [3:0] a, b, result;',\n",
       "  'always @(*)',\n",
       "  'begin',\n",
       "  'result = a + b; ',\n",
       "  'end',\n",
       "  'endmodule'],\n",
       " ['module IntegerOverflow();',\n",
       "  'reg [31:0] res;',\n",
       "  'always @(*)',\n",
       "  'begin',\n",
       "  \"res = 32'hffffffff + 32'h1; \",\n",
       "  'end',\n",
       "  'endmodule']]"
      ]
     },
     "execution_count": 133,
     "metadata": {},
     "output_type": "execute_result"
    }
   ],
   "source": [
    "module_lists"
   ]
  },
  {
   "cell_type": "markdown",
   "metadata": {},
   "source": [
    "### Unreachable State"
   ]
  },
  {
   "cell_type": "code",
   "execution_count": null,
   "metadata": {},
   "outputs": [],
   "source": []
  },
  {
   "cell_type": "markdown",
   "metadata": {},
   "source": [
    "### Non-Full Case"
   ]
  },
  {
   "cell_type": "code",
   "execution_count": null,
   "metadata": {},
   "outputs": [],
   "source": []
  },
  {
   "cell_type": "markdown",
   "metadata": {},
   "source": [
    "### Unintialized registers"
   ]
  },
  {
   "cell_type": "code",
   "execution_count": null,
   "metadata": {},
   "outputs": [],
   "source": []
  },
  {
   "cell_type": "markdown",
   "metadata": {},
   "source": [
    "### Inferring Latches"
   ]
  },
  {
   "cell_type": "code",
   "execution_count": null,
   "metadata": {},
   "outputs": [],
   "source": []
  },
  {
   "cell_type": "markdown",
   "metadata": {},
   "source": [
    "### Unreachable Blocks"
   ]
  },
  {
   "cell_type": "code",
   "execution_count": null,
   "metadata": {},
   "outputs": [],
   "source": []
  },
  {
   "cell_type": "markdown",
   "metadata": {},
   "source": [
    "### Multiple Drivers"
   ]
  },
  {
   "cell_type": "code",
   "execution_count": null,
   "metadata": {},
   "outputs": [],
   "source": []
  },
  {
   "cell_type": "markdown",
   "metadata": {},
   "source": [
    "### Arithmetic Overflow"
   ]
  },
  {
   "cell_type": "code",
   "execution_count": null,
   "metadata": {},
   "outputs": [],
   "source": []
  },
  {
   "cell_type": "markdown",
   "metadata": {},
   "source": [
    "### Non-Parallel Case"
   ]
  },
  {
   "cell_type": "code",
   "execution_count": null,
   "metadata": {},
   "outputs": [],
   "source": []
  }
 ],
 "metadata": {
  "kernelspec": {
   "display_name": "Python 3",
   "language": "python",
   "name": "python3"
  },
  "language_info": {
   "codemirror_mode": {
    "name": "ipython",
    "version": 3
   },
   "file_extension": ".py",
   "mimetype": "text/x-python",
   "name": "python",
   "nbconvert_exporter": "python",
   "pygments_lexer": "ipython3",
   "version": "3.11.4"
  }
 },
 "nbformat": 4,
 "nbformat_minor": 2
}
